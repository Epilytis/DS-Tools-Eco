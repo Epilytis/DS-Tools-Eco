{
  "metadata": {
    "kernelspec": {
      "name": "python",
      "display_name": "Python (Pyodide)",
      "language": "python"
    },
    "language_info": {
      "codemirror_mode": {
        "name": "python",
        "version": 3
      },
      "file_extension": ".py",
      "mimetype": "text/x-python",
      "name": "python",
      "nbconvert_exporter": "python",
      "pygments_lexer": "ipython3",
      "version": "3.8"
    }
  },
  "nbformat_minor": 5,
  "nbformat": 4,
  "cells": [
    {
      "id": "b7f0caa3-8e63-4c26-8648-dc5dc8772f13",
      "cell_type": "markdown",
      "source": "# Data Science Tools and Ecosystem",
      "metadata": {}
    },
    {
      "id": "d30ed914-6af9-4e0d-9c5c-c872dde42108",
      "cell_type": "markdown",
      "source": "In this notebook, Data Science Tools and Ecosystem are summarized.",
      "metadata": {}
    },
    {
      "id": "922fd616-ce34-4419-97d5-73f5625abc68",
      "cell_type": "markdown",
      "source": "**Objectives:**\n\n* List popular languages for Data Science.\n* List commonly used libraries\n* Create a table with Markdown\n* Arithmetics Expression",
      "metadata": {}
    },
    {
      "id": "87d6ce02-9106-4652-aab2-4c49e1f60075",
      "cell_type": "markdown",
      "source": "Some of the popular languages that Data Scientists use are:\n\n1. R\n2. Python\n3. SQL",
      "metadata": {}
    },
    {
      "id": "6f8c18e9-d6bf-4e20-8e48-7b3bf9277b13",
      "cell_type": "markdown",
      "source": "Some of the commonly used libraries used by Data Scientists include:\n\n1. NumPy\n2. Pandas\n3. Matplotlib",
      "metadata": {}
    },
    {
      "id": "b68bfe61-bb23-4910-a369-f66ede4674b2",
      "cell_type": "markdown",
      "source": "| Data Science Tools |\n| -------------|\n| Jupyter Notebook |\n| VS Code |\n| RStudio |",
      "metadata": {}
    },
    {
      "id": "08e82ac9-51bf-46fe-af3a-dd8a15db7da4",
      "cell_type": "markdown",
      "source": "### Below are a few examples of evaluating arithmetic expressions in Python.",
      "metadata": {}
    },
    {
      "id": "4341a8d8-6c23-46c5-b867-bee5e49b9c17",
      "cell_type": "code",
      "source": "#This a simple arithmetic expression to mutiply then add integers.\n(3*4)+5\n",
      "metadata": {
        "trusted": true
      },
      "outputs": [
        {
          "execution_count": 1,
          "output_type": "execute_result",
          "data": {
            "text/plain": "17"
          },
          "metadata": {}
        }
      ],
      "execution_count": 1
    },
    {
      "id": "d93a4b7d-1b56-42b4-901c-5e8252d7cee4",
      "cell_type": "code",
      "source": "#This will convert 200 minutes to hours by diving by 60.\n200/60",
      "metadata": {
        "trusted": true
      },
      "outputs": [
        {
          "execution_count": 3,
          "output_type": "execute_result",
          "data": {
            "text/plain": "3.3333333333333335"
          },
          "metadata": {}
        }
      ],
      "execution_count": 3
    },
    {
      "id": "250fc687-a519-424c-9b33-b051e146f7b8",
      "cell_type": "markdown",
      "source": "## Author\nNikos Tsavalis",
      "metadata": {}
    },
    {
      "id": "1b0265f6-432e-42f5-9974-4a8b88f459d7",
      "cell_type": "code",
      "source": "",
      "metadata": {
        "trusted": true
      },
      "outputs": [],
      "execution_count": null
    }
  ]
}